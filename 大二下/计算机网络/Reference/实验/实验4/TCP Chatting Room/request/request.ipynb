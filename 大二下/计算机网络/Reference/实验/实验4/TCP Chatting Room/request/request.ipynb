{
 "cells": [
  {
   "cell_type": "code",
   "execution_count": 1,
   "id": "ee568537",
   "metadata": {},
   "outputs": [
    {
     "name": "stdout",
     "output_type": "stream",
     "text": [
      "Input the URL to downlaod: https://www.baidu.com/\n",
      "Input the filename to save as: baidu\n",
      "Saved as baidu.html.\n",
      "Size: 2443 Bytes\n",
      "Path:  C:\\Users\\Hytidel\\Desktop\\TCP Chatting Room\\request\n"
     ]
    }
   ],
   "source": [
    "import requests\n",
    "import os\n",
    "\n",
    "def saveHtml(filename, data):  # 将网页保存到filename.html中\n",
    "    filename = filename + \".html\"  # 添加文件扩展名\n",
    "    data.encoding = \"utf-8\"  # 改变编码模式\n",
    "    \n",
    "    # 以二进制将数据写入文件\n",
    "    with open(filename, \"wb\") as file:\n",
    "        file.write(data.content)\n",
    "        \n",
    "    siz = os.path.getsize(filename)\n",
    "    print(\"Saved as %s.\" % filename)\n",
    "    print(\"Size: %d Bytes\" % siz)\n",
    "    print(\"Path: \", os.getcwd())\n",
    "    \n",
    "url = input(\"Input the URL to downlaod: \")\n",
    "filename = input(\"Input the filename to save as: \")\n",
    "\n",
    "html = requests.get(url)  # 获取html\n",
    "saveHtml(filename, html)  # 保存文件"
   ]
  },
  {
   "cell_type": "code",
   "execution_count": null,
   "id": "bad39bf2",
   "metadata": {},
   "outputs": [],
   "source": []
  }
 ],
 "metadata": {
  "kernelspec": {
   "display_name": "Python 3",
   "language": "python",
   "name": "python3"
  },
  "language_info": {
   "codemirror_mode": {
    "name": "ipython",
    "version": 3
   },
   "file_extension": ".py",
   "mimetype": "text/x-python",
   "name": "python",
   "nbconvert_exporter": "python",
   "pygments_lexer": "ipython3",
   "version": "3.8.8"
  }
 },
 "nbformat": 4,
 "nbformat_minor": 5
}
