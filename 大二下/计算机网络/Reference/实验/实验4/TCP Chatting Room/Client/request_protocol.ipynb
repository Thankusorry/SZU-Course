{
 "cells": [
  {
   "cell_type": "code",
   "execution_count": 2,
   "id": "8a6fe36d",
   "metadata": {},
   "outputs": [],
   "source": [
    "import Ipynb_importer\n",
    "from config import *\n",
    "\n",
    "class RequestProtocol(object):\n",
    "    @staticmethod\n",
    "    def request_login_result(username, password):\n",
    "        # 0001|usermame|password\n",
    "        return DELIMITER.join([REQUEST_LOGIN, username, password])\n",
    "    \n",
    "    @staticmethod\n",
    "    def request_chat(username, message):\n",
    "        # 0002|username|message\n",
    "        return DELIMITER.join([REQUEST_CHAT, username, message])\n",
    "    \n",
    "    @staticmethod\n",
    "    def request_time(username):\n",
    "        # 0003|username\n",
    "        return DELIMITER.join([REQUEST_TIME, username])\n",
    "    \n",
    "    @staticmethod\n",
    "    def request_file(username, filename):\n",
    "        # 0004|username|filename\n",
    "        return DELIMITER.join([REQUEST_FILE, username, filename])"
   ]
  },
  {
   "cell_type": "code",
   "execution_count": null,
   "id": "30bfb0f3",
   "metadata": {},
   "outputs": [],
   "source": []
  }
 ],
 "metadata": {
  "kernelspec": {
   "display_name": "Python 3",
   "language": "python",
   "name": "python3"
  },
  "language_info": {
   "codemirror_mode": {
    "name": "ipython",
    "version": 3
   },
   "file_extension": ".py",
   "mimetype": "text/x-python",
   "name": "python",
   "nbconvert_exporter": "python",
   "pygments_lexer": "ipython3",
   "version": "3.8.8"
  }
 },
 "nbformat": 4,
 "nbformat_minor": 5
}
