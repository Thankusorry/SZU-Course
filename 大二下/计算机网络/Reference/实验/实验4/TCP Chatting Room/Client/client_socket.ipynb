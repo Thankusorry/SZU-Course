{
 "cells": [
  {
   "cell_type": "code",
   "execution_count": 2,
   "id": "32e3a115",
   "metadata": {},
   "outputs": [
    {
     "name": "stdout",
     "output_type": "stream",
     "text": [
      "importing Jupyter notebook from config.ipynb\n"
     ]
    }
   ],
   "source": [
    "import Ipynb_importer\n",
    "import socket\n",
    "from config import *\n",
    "\n",
    "class ClientSocket(socket.socket):  # 客户端套接字\n",
    "    def __init__(self):\n",
    "        super(ClientSocket, self).__init__(socket.AF_INET, socket.SOCK_STREAM)  # 设置为TCP套接字\n",
    "        \n",
    "    def connect(self):  # 自动连接到服务器\n",
    "        super(ClientSocket, self).connect((SERVER_IP, SERVER_PORT))\n",
    "        \n",
    "    def recv_data(self):  # 接收服务器发送的数据并解码为字符串\n",
    "        return self.recv(512).decode(\"utf-8\")\n",
    "    \n",
    "    def send_data(self, message):  # 编码并发送数据\n",
    "        return self.send(message.encode(\"utf-8\"))"
   ]
  },
  {
   "cell_type": "code",
   "execution_count": null,
   "id": "9f92df33",
   "metadata": {},
   "outputs": [],
   "source": []
  }
 ],
 "metadata": {
  "kernelspec": {
   "display_name": "Python 3",
   "language": "python",
   "name": "python3"
  },
  "language_info": {
   "codemirror_mode": {
    "name": "ipython",
    "version": 3
   },
   "file_extension": ".py",
   "mimetype": "text/x-python",
   "name": "python",
   "nbconvert_exporter": "python",
   "pygments_lexer": "ipython3",
   "version": "3.8.8"
  }
 },
 "nbformat": 4,
 "nbformat_minor": 5
}
