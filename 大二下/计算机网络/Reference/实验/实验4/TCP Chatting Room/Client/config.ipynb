{
 "cells": [
  {
   "cell_type": "code",
   "execution_count": null,
   "id": "e5404a79",
   "metadata": {},
   "outputs": [],
   "source": [
    "# 协议配置\n",
    "REQUEST_LOGIN = \"0001\"  # 登录请求\n",
    "REQUEST_CHAT = \"0002\"  # 聊天请求\n",
    "REQUEST_TIME = \"0003\"  # 获取服务器时间请求\n",
    "REQUEST_FILE = \"0004\"  # 获取服务器文件请求\n",
    "\n",
    "RESPONSE_LOGIN_RESULT = \"1001\"  # 登录结果响应\n",
    "RESPONSE_CHAT = \"1002\"  # 聊天响应\n",
    "RESPONSE_TIME = \"1003\"  # 获取服务器时间响应\n",
    "RESPONSE_FILE = \"1004\"  # 获取服务器文件响应\n",
    "RESPONSE_SEND = \"1005\"  # 服务器发送文件响应\n",
    "\n",
    "DELIMITER = '|'  # 分隔符\n",
    "\n",
    "# 服务器配置\n",
    "SERVER_IP = \"127.0.0.1\"\n",
    "SERVER_PORT = 8090\n",
    "SEND_CHUNK = 64  # 每次发送的文件二进制流大小 (Bytes)\n",
    "\n",
    "# 客户端配置\n",
    "SAVE_PATH = \"Download\"  # 客户端接收文件的文件夹"
   ]
  }
 ],
 "metadata": {
  "kernelspec": {
   "display_name": "Python 3",
   "language": "python",
   "name": "python3"
  },
  "language_info": {
   "codemirror_mode": {
    "name": "ipython",
    "version": 3
   },
   "file_extension": ".py",
   "mimetype": "text/x-python",
   "name": "python",
   "nbconvert_exporter": "python",
   "pygments_lexer": "ipython3",
   "version": "3.8.8"
  }
 },
 "nbformat": 4,
 "nbformat_minor": 5
}
