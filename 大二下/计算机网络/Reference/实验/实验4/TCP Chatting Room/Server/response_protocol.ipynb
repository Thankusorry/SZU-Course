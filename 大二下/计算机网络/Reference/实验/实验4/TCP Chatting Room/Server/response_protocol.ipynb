{
 "cells": [
  {
   "cell_type": "code",
   "execution_count": 8,
   "id": "097261e7",
   "metadata": {},
   "outputs": [
    {
     "name": "stdout",
     "output_type": "stream",
     "text": [
      "1002\n"
     ]
    }
   ],
   "source": [
    "import Ipynb_importer\n",
    "from config import *\n",
    "from time import localtime, strftime, time\n",
    "\n",
    "class ResponseProtocol(object):  # 服务器响应协议的格式字符串处理\n",
    "    @staticmethod\n",
    "    def response_login_result(result, nickname, username):  # 生成用户登录结果的字符串\n",
    "        '''\n",
    "        :param result: 值为0表示登录失败, 值为1表示登录成功\n",
    "        :param nickname: 登录用户的昵称, 若登录失败则为空\n",
    "        :param username: 登录用户的账号, 若登录失败则为空\n",
    "        :return: 返回给用户的登陆结果的协议字符串\n",
    "        '''\n",
    "        return DELIMITER.join([RESPONSE_LOGIN_RESULT, result, nickname, username])\n",
    "    \n",
    "    @staticmethod\n",
    "    def response_time():  # 生成返回给用户的时间字符串\n",
    "        '''\n",
    "        :return: 返回给用户的时间字符串\n",
    "        '''\n",
    "        server_time = strftime(\"%Y-%m-%d %H:%M:%S\", localtime(time()))  # 将获取到的时间转化为当前时区的时间\n",
    "        return DELIMITER.join([RESPONSE_TIME, \"The server time is \" + server_time])\n",
    "    \n",
    "    @staticmethod\n",
    "    def response_exit():  # 生成返回给请求断开连接的客户端的字符串\n",
    "        '''\n",
    "        :return: 返回给请求断开连接的客户端的字符串\n",
    "        '''\n",
    "        message = \"Bye!\"  # 返回的提示信息\n",
    "        return DELIMITER.join([RESPONSE_EXIT, message])\n",
    "    \n",
    "    @staticmethod\n",
    "    def response_chat(nickname, messages):  # 生成返回给用户的消息字符串\n",
    "        '''\n",
    "        :param nickname: 发送消息的用户的昵称\n",
    "        :param messages: 消息正文\n",
    "        :return: 返回给用户的消息字符串\n",
    "        '''\n",
    "        return DELIMITER.join([RESPONSE_CHAT, nickname, messages])\n",
    "    \n",
    "    @staticmethod\n",
    "    def response_file(filename, filesize):  # 生成返回给用户的文件大小字符串\n",
    "        '''\n",
    "        :param filename: 文件名称\n",
    "        :param filesize: 文件大小, 不存在时为 -1\n",
    "        :return: 返回给用户的文件大小字符串\n",
    "        '''\n",
    "        return DELIMITER.join([RESPONSE_FILE, filename, filesize])\n",
    "    \n",
    "    @staticmethod\n",
    "    def response_send(data):  # 生成返回给用户的文件二进制流编码成的字符串\n",
    "        '''\n",
    "        :param data: 文件二进制流编码后的字符串\n",
    "        :return: 返回给用户的文件二进制流字符串\n",
    "        '''\n",
    "        # data = str(data, encoding = \"utf-8\")  # 先将二进制流编码为字符串\n",
    "        return DELIMITER.join([RESPONSE_SEND, data])"
   ]
  },
  {
   "cell_type": "code",
   "execution_count": null,
   "id": "e7523606",
   "metadata": {},
   "outputs": [],
   "source": []
  }
 ],
 "metadata": {
  "kernelspec": {
   "display_name": "Python 3",
   "language": "python",
   "name": "python3"
  },
  "language_info": {
   "codemirror_mode": {
    "name": "ipython",
    "version": 3
   },
   "file_extension": ".py",
   "mimetype": "text/x-python",
   "name": "python",
   "nbconvert_exporter": "python",
   "pygments_lexer": "ipython3",
   "version": "3.8.8"
  }
 },
 "nbformat": 4,
 "nbformat_minor": 5
}
