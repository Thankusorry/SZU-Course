{
 "cells": [
  {
   "cell_type": "code",
   "execution_count": null,
   "id": "5adb303b",
   "metadata": {},
   "outputs": [],
   "source": [
    "class SocketWrapper(object):  # 包装套接字\n",
    "    def __init__(self, sock):\n",
    "        self.sock = sock\n",
    "        \n",
    "    def recv_data(self):  # 接收客户端发送的消息并解码为字符串\n",
    "        try:  # 客户端正常发送消息\n",
    "            return self.sock.recv(512).decode(\"utf-8\")  # 每个消息最多512个字符; 接收的是二进制流, 需解码\n",
    "        except:  # 客户端退出\n",
    "            return \"/logout\" \n",
    "    \n",
    "    def send_data(self, message):  # 编码字符串并向客户端发送消息\n",
    "        return self.sock.send(message.encode(\"utf-8\"))  # 发送的是二进制流, 需编码\n",
    "    \n",
    "    def close(self):  # 关闭套接字\n",
    "        self.sock.close()"
   ]
  },
  {
   "cell_type": "code",
   "execution_count": null,
   "id": "0fea813e",
   "metadata": {},
   "outputs": [],
   "source": [
    "# class SocketWrapper(object):  # 包装套接字\n",
    "#     def __init__(self, sock):\n",
    "#         self.sock = sock\n",
    "        \n",
    "#     def recv_data(self):  # 接收客户端发送的消息并解码为字符串\n",
    "#         try:  # 客户端正常发送消息\n",
    "#             return self.sock.recv(512).decode(\"utf-8\")  # 每个消息最多512个字符; 接收的是二进制流, 需解码\n",
    "#         except:  # 客户端退出\n",
    "#             return \"/logout\" \n",
    "        \n",
    "#     def recv_byte(self):\n",
    "#         try:\n",
    "#             recv_data = self.sock.recv(512).decode(\"utf-8\")\n",
    "#             recv_data = recv_data.decode(\"utf-8\")\n",
    "#             return recv_data\n",
    "#         except:\n",
    "#             return \"\"\n",
    "    \n",
    "#     def send_data(self, message):  # 编码字符串并向客户端发送消息\n",
    "#         return self.sock.send(message.encode(\"utf-8\"))  # 发送的是二进制流, 需编码\n",
    "    \n",
    "#     def send_byte(self, data):  # 向客户端发送二进制流\n",
    "#         data = str(data, encoding = \"utf-8\")  # 先将二进制流编码为字符串\n",
    "#         return self.send_data(data)\n",
    "    \n",
    "#     def close(self):  # 关闭套接字\n",
    "#         self.sock.close()"
   ]
  }
 ],
 "metadata": {
  "kernelspec": {
   "display_name": "Python 3",
   "language": "python",
   "name": "python3"
  },
  "language_info": {
   "codemirror_mode": {
    "name": "ipython",
    "version": 3
   },
   "file_extension": ".py",
   "mimetype": "text/x-python",
   "name": "python",
   "nbconvert_exporter": "python",
   "pygments_lexer": "ipython3",
   "version": "3.8.8"
  }
 },
 "nbformat": 4,
 "nbformat_minor": 5
}
