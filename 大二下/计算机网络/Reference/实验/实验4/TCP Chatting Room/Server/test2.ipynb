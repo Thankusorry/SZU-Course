{
 "cells": [
  {
   "cell_type": "code",
   "execution_count": null,
   "id": "71b97ee9",
   "metadata": {},
   "outputs": [
    {
     "name": "stdout",
     "output_type": "stream",
     "text": [
      "Input the message to send: 0001|admin|HytidelSB\n",
      "1001|1|Hytidel|admin\n",
      "Input the message to send: 0002|admin|?\n",
      "1002|konbi|nmsl\n"
     ]
    }
   ],
   "source": [
    "import socket\n",
    "\n",
    "def test():  # 测试服务器连接和数据收发\n",
    "    client_socket = socket.socket(socket.AF_INET, socket.SOCK_STREAM)\n",
    "    client_socket.connect((\"127.0.0.1\", 8090))\n",
    "    \n",
    "    while True:\n",
    "        message = input(\"Input the message to send: \")\n",
    "        client_socket.send(message.encode(\"utf-8\"))  # 向服务器发送消息\n",
    "        if message == \"/logout\": break\n",
    "        \n",
    "        recv_data = client_socket.recv(512)  # 接收服务器发来的消息\n",
    "        print(recv_data.decode(\"utf-8\"))\n",
    "\n",
    "    client_socket.close()  # 关闭客户端套接字\n",
    "    \n",
    "if __name__ == \"__main__\":\n",
    "    test()"
   ]
  },
  {
   "cell_type": "code",
   "execution_count": null,
   "id": "2e368e8c",
   "metadata": {},
   "outputs": [],
   "source": []
  }
 ],
 "metadata": {
  "kernelspec": {
   "display_name": "Python 3",
   "language": "python",
   "name": "python3"
  },
  "language_info": {
   "codemirror_mode": {
    "name": "ipython",
    "version": 3
   },
   "file_extension": ".py",
   "mimetype": "text/x-python",
   "name": "python",
   "nbconvert_exporter": "python",
   "pygments_lexer": "ipython3",
   "version": "3.8.8"
  }
 },
 "nbformat": 4,
 "nbformat_minor": 5
}
