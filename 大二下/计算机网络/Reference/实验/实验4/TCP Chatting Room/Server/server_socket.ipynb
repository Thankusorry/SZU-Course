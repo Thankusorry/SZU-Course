{
 "cells": [
  {
   "cell_type": "code",
   "execution_count": 2,
   "id": "1c53e86d",
   "metadata": {},
   "outputs": [
    {
     "name": "stdout",
     "output_type": "stream",
     "text": [
      "importing Jupyter notebook from config.ipynb\n"
     ]
    }
   ],
   "source": [
    "import Ipynb_importer\n",
    "import socket\n",
    "from config import *\n",
    "\n",
    "class ServerSocket(socket.socket):  # 自定义套接字, 用于初始化服务器套接字所需的参数\n",
    "    def __init__(self):  # 设置为TCP类型\n",
    "        super(ServerSocket, self).__init__(socket.AF_INET, socket.SOCK_STREAM)  # 继承父类\n",
    "        \n",
    "        self.bind((SERVER_IP, SERVER_PORT))  # 绑定地址和端口号\n",
    "        self.listen(128)  # 最多允许128个客户端同时连接\n",
    "        "
   ]
  },
  {
   "cell_type": "code",
   "execution_count": null,
   "id": "c11538e2",
   "metadata": {},
   "outputs": [],
   "source": []
  }
 ],
 "metadata": {
  "kernelspec": {
   "display_name": "Python 3",
   "language": "python",
   "name": "python3"
  },
  "language_info": {
   "codemirror_mode": {
    "name": "ipython",
    "version": 3
   },
   "file_extension": ".py",
   "mimetype": "text/x-python",
   "name": "python",
   "nbconvert_exporter": "python",
   "pygments_lexer": "ipython3",
   "version": "3.8.8"
  }
 },
 "nbformat": 4,
 "nbformat_minor": 5
}
